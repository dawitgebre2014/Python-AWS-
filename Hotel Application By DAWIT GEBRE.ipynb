{
 "cells": [
  {
   "cell_type": "code",
   "execution_count": 3,
   "metadata": {},
   "outputs": [
    {
     "ename": "SyntaxError",
     "evalue": "invalid syntax (<ipython-input-3-3a4eb84fdea8>, line 37)",
     "output_type": "error",
     "traceback": [
      "\u001b[0;36m  File \u001b[0;32m\"<ipython-input-3-3a4eb84fdea8>\"\u001b[0;36m, line \u001b[0;32m37\u001b[0m\n\u001b[0;31m    if room =get_ipython().getoutput(' self.occupied:')\u001b[0m\n\u001b[0m            ^\u001b[0m\n\u001b[0;31mSyntaxError\u001b[0m\u001b[0;31m:\u001b[0m invalid syntax\n"
     ]
    }
   ],
   "source": [
    "class Hotel:\n",
    "    \n",
    "    def __init__(self,name,location):\n",
    "        self.name = name\n",
    "        self.location = location\n",
    "        self.theRooms = []\n",
    "        self.numOfRooms = 0\n",
    "        self.occupiedCnt = 0\n",
    "\n",
    "    def addRoom(self,roomnumber,bedtype,smoking,price):\n",
    "        room = Room(roomnumber,bedtype,smoking,price)\n",
    "        self.theRooms.append(room) #add to the array \n",
    "        self.numOfRooms+=1\n",
    "        \n",
    "    def getnumofRooms(self):\n",
    "        return self.numOfRooms\n",
    "    \n",
    "    def getname(self):\n",
    "        return self.name\n",
    "    \n",
    "    def getlocation(self):\n",
    "        return self.location\n",
    "    \n",
    "    def setName(self,name):\n",
    "        self.name = name \n",
    "        \n",
    "    def setlaocation(self,location):\n",
    "        self.location = location \n",
    "        \n",
    "    def isFull(self):\n",
    "        if (self.numOfRooms == self.occupiedCnt):\n",
    "            return True\n",
    "        else:\n",
    "            return False \n",
    "    \n",
    "    def isEmpty(self):\n",
    "         if (self.occupiedCnt == 0):\n",
    "                return True \n",
    "            else:\n",
    "                return False \n",
    "            \n",
    "    def addReservation(self,occupantName ,smoking, bedtype):\n",
    "        ReservationSuccess = False\n",
    "        for room in self.theRooms:\n",
    "            if room.smooking == smoking and room.bedtype == bedtype:\n",
    "                  if ! room.isOccupied():\n",
    "                        room.setOccupantName(occupantName)\n",
    "                        room.setOccupied(True)\n",
    "                        occupiedCnt++\n",
    "                        ReservationSuccess = True \n",
    "                        break \n",
    "        if ReservationSuccess:\n",
    "            \n",
    "            print(\"The Room Has been Reserved! \")\n",
    "        else:\n",
    "            print(\"The Room Reservation was not successful! \")\n",
    "            \n",
    "    def cancelReservation(self,occupantName):\n",
    "        \n",
    "            \n",
    "           \n",
    "\n",
    "    \n",
    "      \n",
    "        \n",
    "        \n",
    "hot1 = Hotel('X','Y')\n",
    "\n",
    "hot1.addRoom(100,'Queen','s',150)\n",
    "hot1.addRoom(150,'King','s',230)\n",
    "\n",
    "print(hot1.getnumofRooms())\n",
    "         "
   ]
  },
  {
   "cell_type": "code",
   "execution_count": 10,
   "metadata": {},
   "outputs": [
    {
     "name": "stdout",
     "output_type": "stream",
     "text": [
      "False\n"
     ]
    }
   ],
   "source": [
    "class Room:\n",
    "    \n",
    "    def __init__(self,roomNum,bedType,rate,smoking,):\n",
    "        self.roomNum = roomNum\n",
    "        self.bedType = bedType\n",
    "        self.rate = rate\n",
    "        self.smoking = smoking\n",
    "        self.occupantName = None  \n",
    "        self.occupied = False \n",
    "        \n",
    "    def setOccupied(self,roomstatus):\n",
    "        self.occupied = roomstatus\n",
    "        \n",
    "    def setOccupantName(self,occupantName):\n",
    "        slef.occupantName = occupantName\n",
    "    \n",
    "    def isOccupied(self):\n",
    "        return self.occupied\n",
    "    \n",
    "    def setRoomNum(self, roomNum):\n",
    "        sel.roomNum = roomNum\n",
    "        \n",
    "    def setBedType(self,bedType):\n",
    "        self.bedType = bedType\n",
    "     \n",
    "    def setRate(self,rate):\n",
    "        self.rate = rate\n",
    "        \n",
    "    def setSmoking(self,smoking):\n",
    "        self.smoking = smoking\n",
    "        \n",
    "    def getBedType(self):\n",
    "        return self.bedType\n",
    "    \n",
    "    def getSmoking(self):\n",
    "        return self.smoking\n",
    "    \n",
    "    def getRoomNum(self):\n",
    "        return slef.roomNum\n",
    "    \n",
    "    def getRoomRate(self):\n",
    "        return self.rate \n",
    "    \n",
    "    def getOccupantName(self):\n",
    "        return self.occupantName\n",
    "    \n",
    "    \n",
    "room1 = Room(101,'Quen',150,'n')\n",
    "print(room1.isOccupied())"
   ]
  },
  {
   "cell_type": "code",
   "execution_count": 11,
   "metadata": {},
   "outputs": [
    {
     "name": "stdout",
     "output_type": "stream",
     "text": [
      "True\n"
     ]
    }
   ],
   "source": [
    "room1.setOccupied(True)\n",
    "print(room1.isOccupied())"
   ]
  },
  {
   "cell_type": "code",
   "execution_count": null,
   "metadata": {},
   "outputs": [],
   "source": []
  }
 ],
 "metadata": {
  "kernelspec": {
   "display_name": "Python 3",
   "language": "python",
   "name": "python3"
  },
  "language_info": {
   "codemirror_mode": {
    "name": "ipython",
    "version": 3
   },
   "file_extension": ".py",
   "mimetype": "text/x-python",
   "name": "python",
   "nbconvert_exporter": "python",
   "pygments_lexer": "ipython3",
   "version": "3.7.3"
  }
 },
 "nbformat": 4,
 "nbformat_minor": 2
}
