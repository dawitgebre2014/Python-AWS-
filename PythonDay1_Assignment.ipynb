{
 "cells": [
  {
   "cell_type": "markdown",
   "metadata": {},
   "source": [
    "## Python_October2019/Study Material/Python Day1/Assignment"
   ]
  },
  {
   "cell_type": "markdown",
   "metadata": {},
   "source": [
    " Q1. Write a script which can ceil and floor given value without using any python built-tin functions. "
   ]
  },
  {
   "cell_type": "markdown",
   "metadata": {},
   "source": [
    " Ceil and Floor : Given a value say x, celil finds Smallest integer not less than x. while floor, finds largest integer not greater than x."
   ]
  },
  {
   "cell_type": "code",
   "execution_count": 52,
   "metadata": {},
   "outputs": [],
   "source": [
    "def my_ceil(num):\n",
    "    res = int(num)\n",
    "    if res == num or num < 0:\n",
    "        return res\n",
    "    else:\n",
    "        return res+1\n",
    "\n",
    "def my_floor(num):\n",
    "    res = int(num)\n",
    "    if res == num or num >= 0:\n",
    "        return res\n",
    "    else:\n",
    "        return res-1"
   ]
  },
  {
   "cell_type": "code",
   "execution_count": 53,
   "metadata": {},
   "outputs": [
    {
     "data": {
      "text/plain": [
       "2"
      ]
     },
     "execution_count": 53,
     "metadata": {},
     "output_type": "execute_result"
    }
   ],
   "source": [
    "ceil(1.25)\n"
   ]
  },
  {
   "cell_type": "code",
   "execution_count": 54,
   "metadata": {},
   "outputs": [
    {
     "data": {
      "text/plain": [
       "3"
      ]
     },
     "execution_count": 54,
     "metadata": {},
     "output_type": "execute_result"
    }
   ],
   "source": [
    "floor(3.7)"
   ]
  },
  {
   "cell_type": "code",
   "execution_count": 56,
   "metadata": {},
   "outputs": [
    {
     "data": {
      "text/plain": [
       "'\\nnum = input(\"enter number:\")\\n\\nval = int(num);\\n\\nif val == num or num < 0:\\n    print(\"ceil,\",val)\\nelse:\\n    print(\"ceil,\",val+1)\\n    \\n    '"
      ]
     },
     "execution_count": 56,
     "metadata": {},
     "output_type": "execute_result"
    }
   ],
   "source": [
    "'''\n",
    "num = input(\"enter number:\")\n",
    "\n",
    "val = int(num);\n",
    "\n",
    "if val == num or num < 0:\n",
    "    print(\"ceil,\",val)\n",
    "else:\n",
    "    print(\"ceil,\",val+1)\n",
    "    \n",
    "    '''\n"
   ]
  },
  {
   "cell_type": "markdown",
   "metadata": {},
   "source": [
    "### Q2 Python script to swap two integers in single line"
   ]
  },
  {
   "cell_type": "code",
   "execution_count": 57,
   "metadata": {},
   "outputs": [
    {
     "name": "stdout",
     "output_type": "stream",
     "text": [
      "enter the first number:3\n",
      "enter the second number:4\n",
      "After Swapping values of x and y are 4 3\n"
     ]
    }
   ],
   "source": [
    "# Python program to swap two variables in single line \n",
    "num1 = input(\"enter the first number:\")\n",
    "num2 = input(\"enter the second number:\")\n",
    "num1, num2 = num2, num1 \n",
    "print(\"After Swapping values of x and y are\", num1, num2)"
   ]
  },
  {
   "cell_type": "markdown",
   "metadata": {},
   "source": [
    " Q3 Write a program that asks the user their name, if they enter your name say \"That is a nice name\",if they enter \"John Cleese\" or \"Michael Palin\", tell them how you feel about them ;), otherwise tell them \"You have a nice name.\"[Use ternary operator]."
   ]
  },
  {
   "cell_type": "code",
   "execution_count": 36,
   "metadata": {},
   "outputs": [
    {
     "name": "stdout",
     "output_type": "stream",
     "text": [
      "Enter your name:\n",
      " Obama\n",
      "You have a nice name.\n"
     ]
    }
   ],
   "source": [
    "name = input(\"Enter your name:\\n \")\n",
    "\n",
    "if name == 'Dawit Gebre':\n",
    "    print(\"That is a nice name.\")\n",
    "    \n",
    "elif name == 'John Cleese' or name =='Michael Palin':\n",
    "        print(\"You're such funny person!\") \n",
    "else:\n",
    "    print(\"You have a nice name.\")    "
   ]
  },
  {
   "cell_type": "code",
   "execution_count": null,
   "metadata": {},
   "outputs": [],
   "source": [
    "while True:\n",
    "    name = str(input(\"Enter your name:\"))\n",
    "\n",
    "    if name ==\"Dawit\":\n",
    "        print(\"That is a nice name.\")\n",
    "\n",
    "    elif name == 'John Cleese' or name =='Michael Palin':\n",
    "        print(\"You're such funny person!\") \n",
    "\n",
    "print(\"You have a nice name.\") "
   ]
  },
  {
   "cell_type": "markdown",
   "metadata": {},
   "source": [
    "Q4 A particular retailer is having a 60 percent off sale on a variety of discontinued products. The retailer would like to help its customers determine the reduced price of the merchandise by having a printed discount table on the shelf that shows the original prices and the prices after the discount has been applied. Write a program that uses a loop to generate this table, showing the original price, the discount amount, and the new price for purchases of $4.95, $9.95, $14.95, $19.95 and $24.95.Ensure that the discount amounts and the new prices are rounded to 2 decimal placeswhen they are displayed."
   ]
  },
  {
   "cell_type": "code",
   "execution_count": 69,
   "metadata": {},
   "outputs": [
    {
     "data": {
      "text/plain": [
       "array([[ 4.95,  2.97,  1.98],\n",
       "       [14.95,  8.97,  5.98],\n",
       "       [19.95, 11.97,  7.98],\n",
       "       [24.95, 14.97,  9.98]])"
      ]
     },
     "execution_count": 69,
     "metadata": {},
     "output_type": "execute_result"
    }
   ],
   "source": [
    "import pandas as pd \n",
    "import numpy as np\n",
    "\"\"\"we will make use of pandas library to have a dataframe(kinda of table)\n",
    "  so as to display the desired price deal\"\"\"\n",
    "\n",
    "orginal_price = [4.95,14.95,19.95,24.95] # list that contains the orginal price\n",
    "after_discount = []\n",
    "percentageDiscount = 60\n",
    "after_discount = []\n",
    "discount_amout = []\n",
    "for price in orginal_price:\n",
    "    reduced_price = price - price*(percentageDiscount/100)\n",
    "    price_diff = price - reduced_price\n",
    "    \n",
    "    after_discount.append(reduced_price)\n",
    "    discount_amout.append(price_diff)\n",
    "    \n",
    "data =[orginal_price,discount_amout,after_discount]\n",
    "np.transpose(data)\n",
    "\n"
   ]
  },
  {
   "cell_type": "code",
   "execution_count": 158,
   "metadata": {},
   "outputs": [
    {
     "name": "stdout",
     "output_type": "stream",
     "text": [
      "\u001b[1m___________A TABLE of PRICE DEAL____________ \u001b[1m\n"
     ]
    },
    {
     "data": {
      "text/html": [
       "<style  type=\"text/css\" >\n",
       "</style><table id=\"T_367f0d9c_fe93_11e9_bc52_6030d4659152\" ><thead>    <tr>        <th class=\"col_heading level0 col0\" >Orginal price</th>        <th class=\"col_heading level0 col1\" >Discount amount</th>        <th class=\"col_heading level0 col2\" >New price</th>    </tr></thead><tbody>\n",
       "                <tr>\n",
       "                                <td id=\"T_367f0d9c_fe93_11e9_bc52_6030d4659152row0_col0\" class=\"data row0 col0\" >4.95</td>\n",
       "                        <td id=\"T_367f0d9c_fe93_11e9_bc52_6030d4659152row0_col1\" class=\"data row0 col1\" >2.97</td>\n",
       "                        <td id=\"T_367f0d9c_fe93_11e9_bc52_6030d4659152row0_col2\" class=\"data row0 col2\" >1.98</td>\n",
       "            </tr>\n",
       "            <tr>\n",
       "                                <td id=\"T_367f0d9c_fe93_11e9_bc52_6030d4659152row1_col0\" class=\"data row1 col0\" >14.95</td>\n",
       "                        <td id=\"T_367f0d9c_fe93_11e9_bc52_6030d4659152row1_col1\" class=\"data row1 col1\" >8.97</td>\n",
       "                        <td id=\"T_367f0d9c_fe93_11e9_bc52_6030d4659152row1_col2\" class=\"data row1 col2\" >5.98</td>\n",
       "            </tr>\n",
       "            <tr>\n",
       "                                <td id=\"T_367f0d9c_fe93_11e9_bc52_6030d4659152row2_col0\" class=\"data row2 col0\" >19.95</td>\n",
       "                        <td id=\"T_367f0d9c_fe93_11e9_bc52_6030d4659152row2_col1\" class=\"data row2 col1\" >11.97</td>\n",
       "                        <td id=\"T_367f0d9c_fe93_11e9_bc52_6030d4659152row2_col2\" class=\"data row2 col2\" >7.98</td>\n",
       "            </tr>\n",
       "            <tr>\n",
       "                                <td id=\"T_367f0d9c_fe93_11e9_bc52_6030d4659152row3_col0\" class=\"data row3 col0\" >24.95</td>\n",
       "                        <td id=\"T_367f0d9c_fe93_11e9_bc52_6030d4659152row3_col1\" class=\"data row3 col1\" >14.97</td>\n",
       "                        <td id=\"T_367f0d9c_fe93_11e9_bc52_6030d4659152row3_col2\" class=\"data row3 col2\" >9.98</td>\n",
       "            </tr>\n",
       "    </tbody></table>"
      ],
      "text/plain": [
       "<pandas.io.formats.style.Styler at 0x11e074e10>"
      ]
     },
     "execution_count": 158,
     "metadata": {},
     "output_type": "execute_result"
    }
   ],
   "source": [
    "print('\\033[1m'  + \"___________\"\"A TABLE of PRICE DEAL____________ \" + '\\033[1m' )\n",
    "    \n",
    "Table_info = pd.DataFrame(np.transpose(data), columns = \n",
    "                          ['Orginal price', 'Discount amount','New price'])\n",
    "\n",
    "Table_info.style.hide_index()"
   ]
  },
  {
   "cell_type": "markdown",
   "metadata": {},
   "source": [
    "Q7 (Game: lottery) generate a lottery of a three digit number. The program prompts the user to enter\n",
    "a three-digit number and determines whether the user wins according to the following rules:\n",
    "\n",
    "\n",
    "1.If the user input matches the lottery number in the exact order, the award is $10,000.\n",
    "\n",
    "\n",
    "2.If all the digits in the user input match all the digits in the lottery number, the award is $3,000. \n",
    "\n",
    "3.If one digit in the user input matches a digit in the lottery number, the award is $1,000."
   ]
  },
  {
   "cell_type": "code",
   "execution_count": 183,
   "metadata": {},
   "outputs": [
    {
     "name": "stdout",
     "output_type": "stream",
     "text": [
      "\u001b[1mENTER A THREE DIGIT NUMBER\u001b[1m\n",
      "Enter a three digit number:123\n"
     ]
    }
   ],
   "source": [
    "import random \n",
    "\n",
    "# user to enter a three-digit number\n",
    "#And find find the 1st,2nd & the 3rd digit of the user_num\n",
    "\n",
    "print('\\033[1m' + \"ENTER A THREE DIGIT NUMBER\" + '\\033[1m')\n",
    "\n",
    "user_num = eval(input(\"Enter a three digit number:\"))\n",
    "\n",
    "user_numD3 = str(user_num % 10)\n",
    "user_numD2 = str((user_num // 10) % 10)\n",
    "user_numD1 = str((user_num // 100) % 10)\n"
   ]
  },
  {
   "cell_type": "code",
   "execution_count": 189,
   "metadata": {},
   "outputs": [
    {
     "name": "stdout",
     "output_type": "stream",
     "text": [
      "\u001b[1mTHE LOTTERY NUMBER IS \u001b[1m 327\n"
     ]
    }
   ],
   "source": [
    "# Randemly genereated number \n",
    "#And find find the 1st,2nd & the 3rd digit of the lottery_num\n",
    "\n",
    "lottery_num = random.randrange(100, 1000)  # randint is inclusive at both ends\n",
    "\n",
    "print('\\033[1m' + \"THE LOTTERY NUMBER IS \" + '\\033[1m' ,lottery_num)\n",
    "lottery_numD3 = str(user_num % 10)\n",
    "lottery_numD2 = str((user_num // 10) % 10)\n",
    "lottery_numD1 = str((user_num // 100) % 10)"
   ]
  },
  {
   "cell_type": "code",
   "execution_count": 222,
   "metadata": {},
   "outputs": [],
   "source": [
    "if lottery_numD3 == user_num:\n",
    "    print(\"You HAVE WON $ 10,000, congradulations!\")\n",
    "\n",
    "elif lottery_num == int(user_numD1 + user_numD3 + user_numD2) \\\n",
    "    or lottery_num == int(user_numD2 + user_numD1 + user_numD3)\\\n",
    "    or lottery_num == int(user_numD2 + user_numD3 + user_numD1)\\\n",
    "    or lottery_num == int(user_numD3 + user_numD1 + user_numD2)\\\n",
    "    or lottery_num == int(user_numD3 + user_numD2 + user_numD1):\n",
    "    \n",
    "    print(\"You HAVE WON $ 3,000, congradulations!\") \n",
    "else:\n",
    "    string = ''\n",
    "    if lottery_numD1 == user_numD1 or lottery_numD1 == user_numD2 or lottery_numD1 == user_numD3:\n",
    "        string = string + lottery_numD1\n",
    "    if lottery_numD2 == user_numD1 or lottery_numD2 == user_numD2 or lottery_numD2 == user_numD3:\n",
    "        string = string + lottery_numD2\n",
    "    if lottery_numD3 == user_numD1 or lottery_numD2 == user_numD2 or lottery_numD2 == user_numD3:\n",
    "        string = string + lottery_numD2\n",
    "    if string == \"\":\n",
    "        print(\"You Loose.\")\n",
    "    else:\n",
    "        stringLastDigit = str(int(string) % 10)\n",
    "        if string == stringLastDigit or string == 2*stringLastDigit or string == 2*stringLastDigit:\n",
    "            print(\"You HAVE WON $ 1,000, congradulations!\")"
   ]
  },
  {
   "cell_type": "code",
   "execution_count": 205,
   "metadata": {},
   "outputs": [
    {
     "data": {
      "text/plain": [
       "'3'"
      ]
     },
     "execution_count": 205,
     "metadata": {},
     "output_type": "execute_result"
    }
   ],
   "source": [
    "user_numD3"
   ]
  },
  {
   "cell_type": "code",
   "execution_count": 198,
   "metadata": {},
   "outputs": [
    {
     "name": "stdout",
     "output_type": "stream",
     "text": [
      "21\n"
     ]
    }
   ],
   "source": [
    "print (int(user_numD2 + user_numD1))"
   ]
  },
  {
   "cell_type": "code",
   "execution_count": null,
   "metadata": {},
   "outputs": [],
   "source": [
    ")\n",
    "     ) \n",
    "    "
   ]
  }
 ],
 "metadata": {
  "kernelspec": {
   "display_name": "Python 3",
   "language": "python",
   "name": "python3"
  },
  "language_info": {
   "codemirror_mode": {
    "name": "ipython",
    "version": 3
   },
   "file_extension": ".py",
   "mimetype": "text/x-python",
   "name": "python",
   "nbconvert_exporter": "python",
   "pygments_lexer": "ipython3",
   "version": "3.7.3"
  }
 },
 "nbformat": 4,
 "nbformat_minor": 2
}
